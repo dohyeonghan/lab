{
 "cells": [
  {
   "cell_type": "code",
   "execution_count": 1,
   "id": "09ddf0c2",
   "metadata": {},
   "outputs": [],
   "source": [
    "import networkx as nx\n",
    "import pandas as pd\n",
    "import matplotlib.pyplot as plt\n",
    "import itertools\n",
    "import os "
   ]
  },
  {
   "cell_type": "code",
   "execution_count": 2,
   "id": "cf70e048",
   "metadata": {},
   "outputs": [],
   "source": [
    "all_books = ['asoiaf-all-edges.csv', 'asoiaf-all-nodes.csv']\n",
    "li = []\n",
    "for f in all_books:\n",
    "    tmp = pd.read_csv(f)\n",
    "    li.append(tmp)"
   ]
  },
  {
   "cell_type": "code",
   "execution_count": 4,
   "id": "2f67c7c4",
   "metadata": {},
   "outputs": [
    {
     "name": "stdout",
     "output_type": "stream",
     "text": [
      "797\n",
      "2824\n"
     ]
    }
   ],
   "source": [
    "df = pd.concat(li, axis=0, ignore_index=True) #합치기\n",
    "df = df[['Source', 'Target']] #source, target 컬럼만 남기기\n",
    "df.drop_duplicates(subset=['Source', 'Target'], inplace=True) #겹치는 데이터 삭제 \n",
    "\n",
    "G = nx.from_pandas_edgelist(df,  source='Source', target='Target')\n",
    "\n",
    "print(len(G.nodes())) #797\n",
    "print(len(G.edges())) #2824"
   ]
  },
  {
   "cell_type": "code",
   "execution_count": 7,
   "id": "f0325111",
   "metadata": {},
   "outputs": [
    {
     "data": {
      "text/plain": [
       "[('Jon-Snow', 0.19163690707127468),\n",
       " ('Tyrion-Lannister', 0.16178358079473507),\n",
       " ('Daenerys-Targaryen', 0.11812048645122798),\n",
       " ('Theon-Greyjoy', 0.11100371180773067),\n",
       " ('Stannis-Baratheon', 0.10986282012240671)]"
      ]
     },
     "execution_count": 7,
     "metadata": {},
     "output_type": "execute_result"
    }
   ],
   "source": [
    "bet_cen = nx.betweenness_centrality(G)\n",
    "sorted(bet_cen.items(), key=lambda x:x[1], reverse=True)[0:5]"
   ]
  },
  {
   "cell_type": "code",
   "execution_count": 8,
   "id": "9ccf505b",
   "metadata": {},
   "outputs": [
    {
     "data": {
      "text/plain": [
       "[('Tyrion-Lannister', 0.15326633165829145),\n",
       " ('Jon-Snow', 0.14321608040201006),\n",
       " ('Jaime-Lannister', 0.12688442211055276),\n",
       " ('Cersei-Lannister', 0.12185929648241206),\n",
       " ('Stannis-Baratheon', 0.11180904522613065)]"
      ]
     },
     "execution_count": 8,
     "metadata": {},
     "output_type": "execute_result"
    }
   ],
   "source": [
    "# Compute the degree centrality of G: deg_cen\n",
    "deg_cen = nx.degree_centrality(G)\n",
    "sorted(deg_cen.items(), key=lambda x:x[1], reverse=True)[0:5]\n"
   ]
  },
  {
   "cell_type": "code",
   "execution_count": 9,
   "id": "f506917c",
   "metadata": {},
   "outputs": [
    {
     "data": {
      "text/plain": [
       "[('Jon-Snow', 0.01897573039129136),\n",
       " ('Tyrion-Lannister', 0.018318219780390946),\n",
       " ('Jaime-Lannister', 0.015418077911657122),\n",
       " ('Stannis-Baratheon', 0.01363168554808615),\n",
       " ('Arya-Stark', 0.013415196852853304)]"
      ]
     },
     "execution_count": 9,
     "metadata": {},
     "output_type": "execute_result"
    }
   ],
   "source": [
    "# Compute the page rank of G: page_rank\n",
    "page_rank = nx.pagerank(G)\n",
    "sorted(page_rank.items(), key=lambda x:x[1], reverse=True)[0:5]"
   ]
  },
  {
   "cell_type": "code",
   "execution_count": 10,
   "id": "3c9a16ac",
   "metadata": {},
   "outputs": [
    {
     "data": {
      "text/plain": [
       "[('Tyrion-Lannister', 0.47573472515362913),\n",
       " ('Robert-Baratheon', 0.4586951220574275),\n",
       " ('Eddard-Stark', 0.4552759497026417),\n",
       " ('Cersei-Lannister', 0.45397441754225676),\n",
       " ('Jaime-Lannister', 0.4513935510411638)]"
      ]
     },
     "execution_count": 10,
     "metadata": {},
     "output_type": "execute_result"
    }
   ],
   "source": [
    "# Compute the closeness centrality of G: clos_cen\n",
    "clos_cen = nx.closeness_centrality(G)\n",
    "sorted(clos_cen.items(), key=lambda x:x[1], reverse=True)[0:5]"
   ]
  },
  {
   "cell_type": "markdown",
   "id": "86836ce3",
   "metadata": {},
   "source": [
    "analyzing graphPermalink\n",
    "이제 그래프를 어떻게 만드는지 알겠고, 필요하다면 이미 그래프를 만들어주는 걸 써서 만들면 될것 같으니, 이제 분석을 해보자.\n",
    "degree: 각 node에 연결된 edge의 수\n",
    "centrality: 어떤 노드가 중요한가?\n",
    "degree_centrality: (normalized) degree, 해당 네트워크에서 직접적인 영향력을 가진 노드.\n",
    "closeness_centrality: 해당 노드가 다른 노드들과 얼마나 가깝게 연결되어 있는가?\n",
    "betweenness_centrality: 해당 노드가 다른 노드들의 최단 거리에 얼마나 많이 포함되어 있는가?"
   ]
  },
  {
   "cell_type": "code",
   "execution_count": 13,
   "id": "c868aecf",
   "metadata": {},
   "outputs": [
    {
     "data": {
      "image/png": "[encoded data removed]",
      "text/plain": [
       "<Figure size 432x288 with 1 Axes>"
      ]
     },
     "metadata": {},
     "output_type": "display_data"
    }
   ],
   "source": [
    "# 시작적으로 보여줘야 하는 것이 많아서, 그릠 그려주는 펑션을 따로 만듬 \n",
    "%matplotlib inline\n",
    "import networkx as nx\n",
    "import matplotlib.pyplot as plt\n",
    "import pandas as pd\n",
    "\n",
    "# matplotlib의 경우 networkx에서 그림을 그릴 때 필요하기 때문에 일단 넣어줌 \n",
    "\n",
    "head_url = \"/assets/images/markdown_img/\"\n",
    "\n",
    "def draw_graph(input_G, layout=\"shell\"):\n",
    "    if layout==\"shell\":\n",
    "        pos = nx.shell_layout(input_G)\n",
    "    elif layout==\"spring\":\n",
    "        pos = nx.spring_layout(input_G)\n",
    "    elif layout==\"spectral\":\n",
    "        pos = nx.spectral_layout(input_G)\n",
    "    elif layout==\"circular\":\n",
    "        pos = nx.circular_layout(input_G)\n",
    "    elif layout==\"random\":\n",
    "        pos = nx.random_layout(input_G)\n",
    "    else:\n",
    "        pos = nx.shell_layout(input_G)\n",
    "        \n",
    "    plt.figure()\n",
    "    nx.draw_networkx_nodes(input_G, pos)\n",
    "    nx.draw_networkx_edges(input_G, pos)\n",
    "    nx.draw_networkx_labels(input_G, pos)\n",
    "    nx.draw_networkx_edge_labels(input_G, pos)\n",
    "    #plt.axis(\"off\")\n",
    "G = nx.lollipop_graph(4, 5)\n",
    "draw_graph(G)"
   ]
  },
  {
   "cell_type": "code",
   "execution_count": 14,
   "id": "de54998f",
   "metadata": {},
   "outputs": [
    {
     "data": {
      "text/html": [
       "<div>\n",
       "<style scoped>\n",
       "    .dataframe tbody tr th:only-of-type {\n",
       "        vertical-align: middle;\n",
       "    }\n",
       "\n",
       "    .dataframe tbody tr th {\n",
       "        vertical-align: top;\n",
       "    }\n",
       "\n",
       "    .dataframe thead th {\n",
       "        text-align: right;\n",
       "    }\n",
       "</style>\n",
       "<table border=\"1\" class=\"dataframe\">\n",
       "  <thead>\n",
       "    <tr style=\"text-align: right;\">\n",
       "      <th></th>\n",
       "      <th>degree</th>\n",
       "      <th>degree_centrality</th>\n",
       "      <th>closeness_centrality</th>\n",
       "      <th>betweenness_centrality</th>\n",
       "      <th>pagerank</th>\n",
       "    </tr>\n",
       "  </thead>\n",
       "  <tbody>\n",
       "    <tr>\n",
       "      <th>0</th>\n",
       "      <td>3</td>\n",
       "      <td>0.375</td>\n",
       "      <td>0.347826</td>\n",
       "      <td>0.000000</td>\n",
       "      <td>0.113494</td>\n",
       "    </tr>\n",
       "    <tr>\n",
       "      <th>1</th>\n",
       "      <td>3</td>\n",
       "      <td>0.375</td>\n",
       "      <td>0.347826</td>\n",
       "      <td>0.000000</td>\n",
       "      <td>0.113494</td>\n",
       "    </tr>\n",
       "    <tr>\n",
       "      <th>2</th>\n",
       "      <td>3</td>\n",
       "      <td>0.375</td>\n",
       "      <td>0.347826</td>\n",
       "      <td>0.000000</td>\n",
       "      <td>0.113494</td>\n",
       "    </tr>\n",
       "    <tr>\n",
       "      <th>3</th>\n",
       "      <td>4</td>\n",
       "      <td>0.500</td>\n",
       "      <td>0.444444</td>\n",
       "      <td>0.535714</td>\n",
       "      <td>0.153007</td>\n",
       "    </tr>\n",
       "    <tr>\n",
       "      <th>4</th>\n",
       "      <td>2</td>\n",
       "      <td>0.250</td>\n",
       "      <td>0.470588</td>\n",
       "      <td>0.571429</td>\n",
       "      <td>0.093813</td>\n",
       "    </tr>\n",
       "    <tr>\n",
       "      <th>5</th>\n",
       "      <td>2</td>\n",
       "      <td>0.250</td>\n",
       "      <td>0.444444</td>\n",
       "      <td>0.535714</td>\n",
       "      <td>0.105018</td>\n",
       "    </tr>\n",
       "    <tr>\n",
       "      <th>6</th>\n",
       "      <td>2</td>\n",
       "      <td>0.250</td>\n",
       "      <td>0.380952</td>\n",
       "      <td>0.428571</td>\n",
       "      <td>0.114071</td>\n",
       "    </tr>\n",
       "    <tr>\n",
       "      <th>7</th>\n",
       "      <td>2</td>\n",
       "      <td>0.250</td>\n",
       "      <td>0.307692</td>\n",
       "      <td>0.250000</td>\n",
       "      <td>0.124171</td>\n",
       "    </tr>\n",
       "    <tr>\n",
       "      <th>8</th>\n",
       "      <td>1</td>\n",
       "      <td>0.125</td>\n",
       "      <td>0.242424</td>\n",
       "      <td>0.000000</td>\n",
       "      <td>0.069439</td>\n",
       "    </tr>\n",
       "  </tbody>\n",
       "</table>\n",
       "</div>"
      ],
      "text/plain": [
       "   degree  degree_centrality  closeness_centrality  betweenness_centrality  \\\n",
       "0       3              0.375              0.347826                0.000000   \n",
       "1       3              0.375              0.347826                0.000000   \n",
       "2       3              0.375              0.347826                0.000000   \n",
       "3       4              0.500              0.444444                0.535714   \n",
       "4       2              0.250              0.470588                0.571429   \n",
       "5       2              0.250              0.444444                0.535714   \n",
       "6       2              0.250              0.380952                0.428571   \n",
       "7       2              0.250              0.307692                0.250000   \n",
       "8       1              0.125              0.242424                0.000000   \n",
       "\n",
       "   pagerank  \n",
       "0  0.113494  \n",
       "1  0.113494  \n",
       "2  0.113494  \n",
       "3  0.153007  \n",
       "4  0.093813  \n",
       "5  0.105018  \n",
       "6  0.114071  \n",
       "7  0.124171  \n",
       "8  0.069439  "
      ]
     },
     "execution_count": 14,
     "metadata": {},
     "output_type": "execute_result"
    }
   ],
   "source": [
    "import pandas as pd\n",
    "import collections \n",
    "\n",
    "node_dict={\n",
    "    \"degree\":dict(G.degree()), \n",
    "    \"degree_centrality\":nx.degree_centrality(G),\n",
    "    \"closeness_centrality\":nx.closeness_centrality(G), \n",
    "    \"betweenness_centrality\":nx.betweenness_centrality(G), \n",
    "    \"pagerank\":nx.pagerank(G) \n",
    "}\n",
    "pd.DataFrame(node_dict)"
   ]
  },
  {
   "cell_type": "code",
   "execution_count": null,
   "id": "1eadb589",
   "metadata": {},
   "outputs": [],
   "source": []
  }
 ],
 "metadata": {
  "kernelspec": {
   "display_name": "Python 3",
   "language": "python",
   "name": "python3"
  },
  "language_info": {
   "codemirror_mode": {
    "name": "ipython",
    "version": 3
   },
   "file_extension": ".py",
   "mimetype": "text/x-python",
   "name": "python",
   "nbconvert_exporter": "python",
   "pygments_lexer": "ipython3",
   "version": "3.8.8"
  }
 },
 "nbformat": 4,
 "nbformat_minor": 5
}
