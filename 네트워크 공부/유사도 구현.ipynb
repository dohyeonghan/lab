{
 "cells": [
  {
   "cell_type": "code",
   "execution_count": 1,
   "id": "ffeb673f",
   "metadata": {},
   "outputs": [],
   "source": [
    "import pandas as pd\n",
    "import numpy as np"
   ]
  },
  {
   "cell_type": "code",
   "execution_count": 3,
   "id": "f2898662",
   "metadata": {},
   "outputs": [],
   "source": [
    "df = pd.read_excel('solar_pv_raw.xlsx')"
   ]
  },
  {
   "cell_type": "code",
   "execution_count": 17,
   "id": "f837357c",
   "metadata": {},
   "outputs": [
    {
     "data": {
      "text/html": [
       "<div>\n",
       "<style scoped>\n",
       "    .dataframe tbody tr th:only-of-type {\n",
       "        vertical-align: middle;\n",
       "    }\n",
       "\n",
       "    .dataframe tbody tr th {\n",
       "        vertical-align: top;\n",
       "    }\n",
       "\n",
       "    .dataframe thead th {\n",
       "        text-align: right;\n",
       "    }\n",
       "</style>\n",
       "<table border=\"1\" class=\"dataframe\">\n",
       "  <thead>\n",
       "    <tr style=\"text-align: right;\">\n",
       "      <th></th>\n",
       "      <th>Title</th>\n",
       "    </tr>\n",
       "  </thead>\n",
       "  <tbody>\n",
       "    <tr>\n",
       "      <th>0</th>\n",
       "      <td>SEMICONDUCTOR HAVING TIN OXIDE LAYER AND SUBST...</td>\n",
       "    </tr>\n",
       "    <tr>\n",
       "      <th>1</th>\n",
       "      <td>FLEXIBLE SOLAR CELL MODULAR ASSEMBLY</td>\n",
       "    </tr>\n",
       "    <tr>\n",
       "      <th>2</th>\n",
       "      <td>Shock resistant encapsulated infrared detector</td>\n",
       "    </tr>\n",
       "    <tr>\n",
       "      <th>3</th>\n",
       "      <td>METHOD OF MAKING SILICON SOLAR CELL ARRAY</td>\n",
       "    </tr>\n",
       "    <tr>\n",
       "      <th>4</th>\n",
       "      <td>VERTICAL JUNCTION HARDENED SOLAR CELL</td>\n",
       "    </tr>\n",
       "    <tr>\n",
       "      <th>...</th>\n",
       "      <td>...</td>\n",
       "    </tr>\n",
       "    <tr>\n",
       "      <th>8081</th>\n",
       "      <td>Solar cell and method of manufacturing the same</td>\n",
       "    </tr>\n",
       "    <tr>\n",
       "      <th>8082</th>\n",
       "      <td>N-type silicon solar cell with contact/protect...</td>\n",
       "    </tr>\n",
       "    <tr>\n",
       "      <th>8083</th>\n",
       "      <td>Solar cell and method for manufacturing the same</td>\n",
       "    </tr>\n",
       "    <tr>\n",
       "      <th>8084</th>\n",
       "      <td>Solderable polymer thick film conductive elect...</td>\n",
       "    </tr>\n",
       "    <tr>\n",
       "      <th>8085</th>\n",
       "      <td>Photovoltaic cell containing novel photoactive...</td>\n",
       "    </tr>\n",
       "  </tbody>\n",
       "</table>\n",
       "<p>8086 rows × 1 columns</p>\n",
       "</div>"
      ],
      "text/plain": [
       "                                                  Title\n",
       "0     SEMICONDUCTOR HAVING TIN OXIDE LAYER AND SUBST...\n",
       "1                  FLEXIBLE SOLAR CELL MODULAR ASSEMBLY\n",
       "2        Shock resistant encapsulated infrared detector\n",
       "3             METHOD OF MAKING SILICON SOLAR CELL ARRAY\n",
       "4                 VERTICAL JUNCTION HARDENED SOLAR CELL\n",
       "...                                                 ...\n",
       "8081    Solar cell and method of manufacturing the same\n",
       "8082  N-type silicon solar cell with contact/protect...\n",
       "8083   Solar cell and method for manufacturing the same\n",
       "8084  Solderable polymer thick film conductive elect...\n",
       "8085  Photovoltaic cell containing novel photoactive...\n",
       "\n",
       "[8086 rows x 1 columns]"
      ]
     },
     "execution_count": 17,
     "metadata": {},
     "output_type": "execute_result"
    }
   ],
   "source": [
    "df1 = df[['Title']]\n",
    "df1"
   ]
  },
  {
   "cell_type": "code",
   "execution_count": 19,
   "id": "b3a9f770",
   "metadata": {},
   "outputs": [],
   "source": [
    "df2 = df1[df1['Title'].str.contains('mounting')]"
   ]
  },
  {
   "cell_type": "code",
   "execution_count": 44,
   "id": "ddc803bb",
   "metadata": {},
   "outputs": [
    {
     "data": {
      "text/plain": [
       "Title    56\n",
       "dtype: int64"
      ]
     },
     "execution_count": 44,
     "metadata": {},
     "output_type": "execute_result"
    }
   ],
   "source": [
    "df1[df1['Title'].str.contains('mounting')].count()"
   ]
  },
  {
   "cell_type": "code",
   "execution_count": 34,
   "id": "0a44e9ee",
   "metadata": {},
   "outputs": [
    {
     "name": "stdout",
     "output_type": "stream",
     "text": [
      "['Title', 'Method', 'of', 'planar', 'mounting', 'of', 'silicon', 'solar', 'cells']\n",
      "['Title', 'Solar', 'cell', 'mounting', 'and', 'interconnecting', 'assembly']\n"
     ]
    }
   ],
   "source": [
    "title1 = df2.iloc[0].to_string() #iloc하면 시리즈\n",
    "title2 = df2.iloc[1].to_string()\n",
    "\n",
    "t_title1 = title1.split()\n",
    "t_title2 = title2.split()\n",
    "\n",
    "print(t_title1)\n",
    "print(t_title2)"
   ]
  },
  {
   "cell_type": "code",
   "execution_count": 35,
   "id": "65f86acc",
   "metadata": {},
   "outputs": [
    {
     "name": "stdout",
     "output_type": "stream",
     "text": [
      "{'planar', 'of', 'and', 'Solar', 'interconnecting', 'assembly', 'Title', 'silicon', 'mounting', 'solar', 'cells', 'Method', 'cell'}\n"
     ]
    }
   ],
   "source": [
    "u_title = set(t_title1).union(set(t_title2))\n",
    "print(u_title)"
   ]
  },
  {
   "cell_type": "code",
   "execution_count": 37,
   "id": "585444b9",
   "metadata": {},
   "outputs": [
    {
     "name": "stdout",
     "output_type": "stream",
     "text": [
      "{'Title', 'mounting'}\n"
     ]
    }
   ],
   "source": [
    "i_title = set(t_title1).intersection(set(t_title2))\n",
    "print(i_title)"
   ]
  },
  {
   "cell_type": "code",
   "execution_count": 38,
   "id": "d7085022",
   "metadata": {},
   "outputs": [
    {
     "name": "stdout",
     "output_type": "stream",
     "text": [
      "0.15384615384615385\n"
     ]
    }
   ],
   "source": [
    "print(len(i_title)/len(u_title))"
   ]
  },
  {
   "cell_type": "code",
   "execution_count": null,
   "id": "a220913d",
   "metadata": {},
   "outputs": [],
   "source": []
  }
 ],
 "metadata": {
  "kernelspec": {
   "display_name": "Python 3",
   "language": "python",
   "name": "python3"
  },
  "language_info": {
   "codemirror_mode": {
    "name": "ipython",
    "version": 3
   },
   "file_extension": ".py",
   "mimetype": "text/x-python",
   "name": "python",
   "nbconvert_exporter": "python",
   "pygments_lexer": "ipython3",
   "version": "3.8.8"
  }
 },
 "nbformat": 4,
 "nbformat_minor": 5
}
