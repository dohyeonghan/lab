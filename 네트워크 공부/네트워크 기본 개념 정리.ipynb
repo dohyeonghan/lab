{
 "cells": [
  {
   "cell_type": "markdown",
   "id": "931666cd",
   "metadata": {},
   "source": [
    "유클리드 거리"
   ]
  },
  {
   "cell_type": "code",
   "execution_count": 1,
   "id": "6ddf2412",
   "metadata": {},
   "outputs": [],
   "source": [
    "import numpy as np"
   ]
  },
  {
   "cell_type": "code",
   "execution_count": 2,
   "id": "5071ccd8",
   "metadata": {},
   "outputs": [],
   "source": [
    "point1 = np.array((1,1))\n",
    "point2 = np.array((2,2))\n",
    "dist = np.linalg.norm(point1-point2)"
   ]
  },
  {
   "cell_type": "code",
   "execution_count": 3,
   "id": "9daf1d00",
   "metadata": {},
   "outputs": [
    {
     "data": {
      "text/plain": [
       "1.4142135623730951"
      ]
     },
     "execution_count": 3,
     "metadata": {},
     "output_type": "execute_result"
    }
   ],
   "source": [
    "dist"
   ]
  },
  {
   "attachments": {
    "image.png": {
     "image/png": "[encoded data removed]"
    }
   },
   "cell_type": "markdown",
   "id": "489a4dac",
   "metadata": {},
   "source": [
    "코사인 유사도\n",
    "![image.png](attachment:image.png)"
   ]
  },
  {
   "cell_type": "code",
   "execution_count": 4,
   "id": "91d8b8ea",
   "metadata": {},
   "outputs": [],
   "source": [
    "from numpy import dot\n",
    "from numpy.linalg import norm\n",
    "import numpy as np "
   ]
  },
  {
   "cell_type": "code",
   "execution_count": 5,
   "id": "c693cc38",
   "metadata": {},
   "outputs": [],
   "source": [
    "def cos_sim(A,B):\n",
    "    return dot(A,B) / (norm(A)*norm(B))"
   ]
  },
  {
   "cell_type": "code",
   "execution_count": 6,
   "id": "49ea9642",
   "metadata": {},
   "outputs": [],
   "source": [
    "MOC1 = np.array([1,0,1,1])\n",
    "MOC2 = np.array([0,1,1,1])\n",
    "MOC3 = np.array([0,0,0,1])"
   ]
  },
  {
   "cell_type": "code",
   "execution_count": 7,
   "id": "7f976166",
   "metadata": {},
   "outputs": [
    {
     "name": "stdout",
     "output_type": "stream",
     "text": [
      "0.6666666666666667\n",
      "0.5773502691896258\n",
      "0.5773502691896258\n"
     ]
    }
   ],
   "source": [
    "print(cos_sim(MOC1,MOC2))\n",
    "print(cos_sim(MOC1,MOC3))\n",
    "print(cos_sim(MOC2,MOC3))"
   ]
  },
  {
   "cell_type": "code",
   "execution_count": null,
   "id": "ac6c47cc",
   "metadata": {},
   "outputs": [],
   "source": []
  }
 ],
 "metadata": {
  "kernelspec": {
   "display_name": "Python 3",
   "language": "python",
   "name": "python3"
  },
  "language_info": {
   "codemirror_mode": {
    "name": "ipython",
    "version": 3
   },
   "file_extension": ".py",
   "mimetype": "text/x-python",
   "name": "python",
   "nbconvert_exporter": "python",
   "pygments_lexer": "ipython3",
   "version": "3.8.8"
  }
 },
 "nbformat": 4,
 "nbformat_minor": 5
}
